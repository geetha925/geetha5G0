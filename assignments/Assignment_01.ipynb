{
  "cells": [
    {
      "cell_type": "markdown",
      "metadata": {
        "id": "view-in-github",
        "colab_type": "text"
      },
      "source": [
        "<a href=\"https://colab.research.google.com/github/geetha925/geetha5G0/blob/main/assignments/Assignment_01.ipynb\" target=\"_parent\"><img src=\"https://colab.research.google.com/assets/colab-badge.svg\" alt=\"Open In Colab\"/></a>"
      ]
    },
    {
      "cell_type": "markdown",
      "id": "548b84c2-e24f-4a12-98bb-5e7bd5ec86bd",
      "metadata": {
        "id": "548b84c2-e24f-4a12-98bb-5e7bd5ec86bd"
      },
      "source": [
        "# Python"
      ]
    },
    {
      "cell_type": "markdown",
      "id": "99fbfc45-ba9e-4766-8219-f5dbcacc8481",
      "metadata": {
        "id": "99fbfc45-ba9e-4766-8219-f5dbcacc8481"
      },
      "source": [
        "<a target=\"_blank\" href=\"https://colab.research.google.com/github/kgsb24/rishi-college/blob/main/assignments/Assignment_01.ipynb\">\n",
        "  <img src=\"https://colab.research.google.com/assets/colab-badge.svg\" alt=\"Open In Colab\"/>\n",
        "</a>"
      ]
    },
    {
      "cell_type": "markdown",
      "id": "07a1f870-f905-4703-8b65-12e83172133a",
      "metadata": {
        "id": "07a1f870-f905-4703-8b65-12e83172133a"
      },
      "source": [
        "## Basic Python Fundamentals"
      ]
    },
    {
      "cell_type": "code",
      "execution_count": 18,
      "id": "502e1d87-2fdd-4588-a330-2af21268215e",
      "metadata": {
        "colab": {
          "base_uri": "https://localhost:8080/"
        },
        "id": "502e1d87-2fdd-4588-a330-2af21268215e",
        "outputId": "ba37268b-017c-416a-87e2-6e689e732438"
      },
      "outputs": [
        {
          "output_type": "stream",
          "name": "stdout",
          "text": [
            "<class 'int'>\n"
          ]
        }
      ],
      "source": [
        "# Write a Python program to declare a variable x with the value 10 and print its type.\n",
        "# Declare the variable x and assign it the value 10\n",
        "x = 10\n",
        "\n",
        "# Print the type of x\n",
        "print(type(x))"
      ]
    },
    {
      "cell_type": "code",
      "execution_count": 19,
      "id": "dae77579-4b7d-4f06-96e0-7bdfe43860d7",
      "metadata": {
        "colab": {
          "base_uri": "https://localhost:8080/"
        },
        "id": "dae77579-4b7d-4f06-96e0-7bdfe43860d7",
        "outputId": "6b143642-a034-4311-d304-4dcff347b977"
      },
      "outputs": [
        {
          "output_type": "stream",
          "name": "stdout",
          "text": [
            "The sum of a, b, and c is: 30\n"
          ]
        }
      ],
      "source": [
        "# Write a Python program to declare three variables a = 5, b = 10, and c = 15, and print their sum.\n",
        "# Declare and initialize the variables\n",
        "a = 5\n",
        "b = 10\n",
        "c = 15\n",
        "\n",
        "# Calculate the sum\n",
        "sum_of_variables = a + b + c\n",
        "\n",
        "# Print the sum\n",
        "print(\"The sum of a, b, and c is:\", sum_of_variables)"
      ]
    },
    {
      "cell_type": "code",
      "execution_count": 21,
      "id": "c32867b2-a615-426a-89ae-bd2793b6a4dc",
      "metadata": {
        "colab": {
          "base_uri": "https://localhost:8080/"
        },
        "id": "c32867b2-a615-426a-89ae-bd2793b6a4dc",
        "outputId": "b1d03107-4733-40a5-fea6-0d02e0ad37ba"
      },
      "outputs": [
        {
          "output_type": "stream",
          "name": "stdout",
          "text": [
            "Enter a variable: hello\n",
            "The type of the variable is: <class 'str'>\n"
          ]
        }
      ],
      "source": [
        "# Write a Python program that checks and prints the type of a variable (e.g., int, float, str, etc.).\n",
        "# Get input from the user\n",
        "variable = input(\"Enter a variable: \")\n",
        "\n",
        "# Check and print the type of the variable\n",
        "print(\"The type of the variable is:\", type(variable))"
      ]
    },
    {
      "cell_type": "code",
      "execution_count": 22,
      "id": "8b233e41-9d44-4869-9ead-afb3ff1c0b67",
      "metadata": {
        "colab": {
          "base_uri": "https://localhost:8080/"
        },
        "id": "8b233e41-9d44-4869-9ead-afb3ff1c0b67",
        "outputId": "ba735ffa-a439-48c0-fbfa-44586fb9e3e8"
      },
      "outputs": [
        {
          "output_type": "stream",
          "name": "stdout",
          "text": [
            "Enter the first number: 7\n",
            "Enter the second number: 5\n",
            "Addition: 12.0\n",
            "Subtraction: 2.0\n",
            "Multiplication: 35.0\n",
            "Division: 1.4\n"
          ]
        }
      ],
      "source": [
        "# Write a Python program to perform addition, subtraction, multiplication, and division on two numbers. (User input is required for the numbers)\n",
        "# Get input for the two numbers\n",
        "num1 = float(input(\"Enter the first number: \"))\n",
        "num2 = float(input(\"Enter the second number: \"))\n",
        "\n",
        "# Perform calculations\n",
        "addition = num1 + num2\n",
        "subtraction = num1 - num2\n",
        "multiplication = num1 * num2\n",
        "division = num1 / num2  # Note: Potential ZeroDivisionError if num2 is 0\n",
        "\n",
        "# Print the results\n",
        "print(\"Addition:\", addition)\n",
        "print(\"Subtraction:\", subtraction)\n",
        "print(\"Multiplication:\", multiplication)\n",
        "print(\"Division:\", division)"
      ]
    },
    {
      "cell_type": "code",
      "execution_count": 23,
      "id": "629435bd-6bfa-44de-91d9-3b2937713257",
      "metadata": {
        "colab": {
          "base_uri": "https://localhost:8080/"
        },
        "id": "629435bd-6bfa-44de-91d9-3b2937713257",
        "outputId": "82614123-941e-4120-9ab6-e5a2ee5e17de"
      },
      "outputs": [
        {
          "output_type": "stream",
          "name": "stdout",
          "text": [
            "Original string: 123\n",
            "Integer: 123\n",
            "Float: 123.0\n"
          ]
        }
      ],
      "source": [
        "# Write a Python program to convert a string \"123\" to an integer and a float and print the results.\n",
        "# Define the string\n",
        "string_number = \"123\"\n",
        "\n",
        "# Convert to integer\n",
        "integer_number = int(string_number)\n",
        "\n",
        "# Convert to float\n",
        "float_number = float(string_number)\n",
        "\n",
        "# Print the results\n",
        "print(\"Original string:\", string_number)\n",
        "print(\"Integer:\", integer_number)\n",
        "print(\"Float:\", float_number)"
      ]
    },
    {
      "cell_type": "code",
      "execution_count": 24,
      "id": "599421f1-51c1-4653-9d78-b007fcc6861b",
      "metadata": {
        "colab": {
          "base_uri": "https://localhost:8080/"
        },
        "id": "599421f1-51c1-4653-9d78-b007fcc6861b",
        "outputId": "e58bad4c-f935-42c3-ce82-2cfaf31af0d0"
      },
      "outputs": [
        {
          "output_type": "stream",
          "name": "stdout",
          "text": [
            "Enter a string: geetha\n",
            "The first character is: g\n"
          ]
        }
      ],
      "source": [
        "# Write a Python program to print the first character of a given string. (User input for the string)\n",
        "# Get the string from the user\n",
        "string = input(\"Enter a string: \")\n",
        "\n",
        "# Print the first character (if the string is not empty)\n",
        "if string:  # Check if the string is not empty\n",
        "    print(\"The first character is:\", string[0])\n",
        "else:\n",
        "    print(\"The string is empty.\")"
      ]
    },
    {
      "cell_type": "code",
      "execution_count": 25,
      "id": "54ee0a5d-415f-40b6-b82e-c0de12a002f9",
      "metadata": {
        "colab": {
          "base_uri": "https://localhost:8080/"
        },
        "id": "54ee0a5d-415f-40b6-b82e-c0de12a002f9",
        "outputId": "1510bb68-4e22-4287-89a8-f6cad88b94f1"
      },
      "outputs": [
        {
          "output_type": "stream",
          "name": "stdout",
          "text": [
            "Enter a string: hello\n",
            "The length of the string is: 5\n"
          ]
        }
      ],
      "source": [
        "# Write a Python program to print the length of a string. (User input for the string)\n",
        "# Get the string from the user\n",
        "string = input(\"Enter a string: \")\n",
        "\n",
        "# Get the length of the string using the len() function\n",
        "length = len(string)\n",
        "\n",
        "# Print the length of the string\n",
        "print(\"The length of the string is:\", length)"
      ]
    },
    {
      "cell_type": "code",
      "execution_count": 26,
      "id": "65f44c33-618e-4337-a9d1-9de888c93a0a",
      "metadata": {
        "colab": {
          "base_uri": "https://localhost:8080/"
        },
        "id": "65f44c33-618e-4337-a9d1-9de888c93a0a",
        "outputId": "d2c2434a-9307-4ce8-bdd6-9f95c76d78fd"
      },
      "outputs": [
        {
          "output_type": "stream",
          "name": "stdout",
          "text": [
            "Enter a string: huh8\n",
            "The string does not contain only alphabets.\n"
          ]
        }
      ],
      "source": [
        "# Write a Python program to check if a given string contains only alphabets.\n",
        "# Get the string from the user\n",
        "string = input(\"Enter a string: \")\n",
        "\n",
        "# Check if the string contains only alphabets using isalpha()\n",
        "if string.isalpha():\n",
        "    print(\"The string contains only alphabets.\")\n",
        "else:\n",
        "    print(\"The string does not contain only alphabets.\")"
      ]
    },
    {
      "cell_type": "code",
      "execution_count": 27,
      "id": "37463128-2b51-4860-b6bf-40d3c03fbe84",
      "metadata": {
        "colab": {
          "base_uri": "https://localhost:8080/"
        },
        "id": "37463128-2b51-4860-b6bf-40d3c03fbe84",
        "outputId": "48cf4fa1-a244-4229-cfb0-a026242241b0"
      },
      "outputs": [
        {
          "output_type": "stream",
          "name": "stdout",
          "text": [
            "Enter the first string: hgtyg\n",
            "Enter the second string: uy\n",
            "The concatenated string is: hgtyguy\n"
          ]
        }
      ],
      "source": [
        "# Write a Python program to concatenate two strings. (User input for the strings)\n",
        "# Get the first string from the user\n",
        "string1 = input(\"Enter the first string: \")\n",
        "\n",
        "# Get the second string from the user\n",
        "string2 = input(\"Enter the second string: \")\n",
        "\n",
        "# Concatenate the strings using the + operator\n",
        "concatenated_string = string1 + string2\n",
        "\n",
        "# Print the concatenated string\n",
        "print(\"The concatenated string is:\", concatenated_string)"
      ]
    },
    {
      "cell_type": "code",
      "execution_count": 28,
      "id": "b1c5d364-eccf-473a-b03a-ab15f3e917cf",
      "metadata": {
        "colab": {
          "base_uri": "https://localhost:8080/"
        },
        "id": "b1c5d364-eccf-473a-b03a-ab15f3e917cf",
        "outputId": "b810f4ae-e385-484c-e8d8-49904d91d329"
      },
      "outputs": [
        {
          "output_type": "stream",
          "name": "stdout",
          "text": [
            "Enter a string: geetha\n",
            "'abc' is not found in the string.\n"
          ]
        }
      ],
      "source": [
        "# Write a Python program to find the index of a substring \"abc\" in a string. (User input for the string)\n",
        "# Get the string from the user\n",
        "string = input(\"Enter a string: \")\n",
        "\n",
        "# Find the index of the substring \"abc\" using find()\n",
        "index = string.find(\"abc\")\n",
        "\n",
        "# Print the index\n",
        "if index != -1:\n",
        "    print(\"The index of 'abc' is:\", index)\n",
        "else:\n",
        "    print(\"'abc' is not found in the string.\")"
      ]
    },
    {
      "cell_type": "code",
      "execution_count": 29,
      "id": "cc92afd9-ba4b-4934-a79d-f26825b4efc2",
      "metadata": {
        "colab": {
          "base_uri": "https://localhost:8080/"
        },
        "id": "cc92afd9-ba4b-4934-a79d-f26825b4efc2",
        "outputId": "3aa6f291-c40f-4555-8e7c-1f3936a2cb53"
      },
      "outputs": [
        {
          "output_type": "stream",
          "name": "stdout",
          "text": [
            "Enter a string: geetha\n",
            "Original string: geetha\n",
            "Uppercase: GEETHA\n",
            "Lowercase: geetha\n"
          ]
        }
      ],
      "source": [
        "# Write a Python program to convert a string to both uppercase and lowercase. (User input for the string)\n",
        "# Get the string from the user\n",
        "string = input(\"Enter a string: \")\n",
        "\n",
        "# Convert to uppercase\n",
        "uppercase_string = string.upper()\n",
        "\n",
        "# Convert to lowercase\n",
        "lowercase_string = string.lower()\n",
        "\n",
        "# Print the results\n",
        "print(\"Original string:\", string)\n",
        "print(\"Uppercase:\", uppercase_string)\n",
        "print(\"Lowercase:\", lowercase_string)"
      ]
    },
    {
      "cell_type": "code",
      "execution_count": 30,
      "id": "f24f79b3-da8b-44bf-8310-c68442e86e3e",
      "metadata": {
        "colab": {
          "base_uri": "https://localhost:8080/"
        },
        "id": "f24f79b3-da8b-44bf-8310-c68442e86e3e",
        "outputId": "05a97588-b546-4e35-b7ce-d8fa2b166bc8"
      },
      "outputs": [
        {
          "output_type": "stream",
          "name": "stdout",
          "text": [
            "Enter a string: geetha\n",
            "Enter the character to count: 6\n",
            "The character '6' appears 0 times in the string.\n"
          ]
        }
      ],
      "source": [
        "# Write a Python program to count how many times a particular character appears in a string. (User input for string and character)\n",
        "# Get the string and character from the user\n",
        "string = input(\"Enter a string: \")\n",
        "char_to_count = input(\"Enter the character to count: \")\n",
        "\n",
        "# Initialize the count\n",
        "count = 0\n",
        "\n",
        "# Iterate through the string and count occurrences\n",
        "for char in string:\n",
        "    if char == char_to_count:\n",
        "        count += 1\n",
        "\n",
        "# Print the count\n",
        "print(f\"The character '{char_to_count}' appears {count} times in the string.\")"
      ]
    },
    {
      "cell_type": "code",
      "execution_count": 31,
      "id": "f2e8f25c-5c34-44eb-b749-7cc4c100b9a8",
      "metadata": {
        "colab": {
          "base_uri": "https://localhost:8080/"
        },
        "id": "f2e8f25c-5c34-44eb-b749-7cc4c100b9a8",
        "outputId": "c6925a28-22b2-47c7-e983-2dae9cae5dbf"
      },
      "outputs": [
        {
          "output_type": "stream",
          "name": "stdout",
          "text": [
            "Enter your name: geetha\n",
            "Hello, geetha, Good Morning!\n"
          ]
        }
      ],
      "source": [
        "# Write a Python program to take the user's name as input and print a personalized greeting. (Hello, username, Good Morning)\n",
        "# Get the user's name\n",
        "name = input(\"Enter your name: \")\n",
        "\n",
        "# Print the personalized greeting\n",
        "print(\"Hello,\", name + \", Good Morning!\")"
      ]
    },
    {
      "cell_type": "code",
      "execution_count": 32,
      "id": "189296cf-77e6-4f48-b010-77458da5bc9d",
      "metadata": {
        "colab": {
          "base_uri": "https://localhost:8080/"
        },
        "id": "189296cf-77e6-4f48-b010-77458da5bc9d",
        "outputId": "cb2a5b0a-d6c4-4160-d585-2e8babc2132d"
      },
      "outputs": [
        {
          "output_type": "stream",
          "name": "stdout",
          "text": [
            "Enter the first number: 76\n",
            "Enter the second number: 87\n",
            "The sum of the two numbers is: 163.0\n"
          ]
        }
      ],
      "source": [
        "# Write a Python program to take two numbers as input and print their sum.\n",
        "# Get the first number from the user\n",
        "num1 = float(input(\"Enter the first number: \"))\n",
        "\n",
        "# Get the second number from the user\n",
        "num2 = float(input(\"Enter the second number: \"))\n",
        "\n",
        "# Calculate the sum\n",
        "sum = num1 + num2\n",
        "\n",
        "# Print the sum\n",
        "print(\"The sum of the two numbers is:\", sum)"
      ]
    },
    {
      "cell_type": "code",
      "execution_count": 33,
      "id": "0563b26c-0218-47b8-9035-98beb73b0931",
      "metadata": {
        "colab": {
          "base_uri": "https://localhost:8080/"
        },
        "id": "0563b26c-0218-47b8-9035-98beb73b0931",
        "outputId": "be417809-4ec1-41f3-f75f-286d597579f1"
      },
      "outputs": [
        {
          "output_type": "stream",
          "name": "stdout",
          "text": [
            "Enter your name: geetha\n",
            "Enter your age: 18\n",
            "My name is geetha and I am 18 years old.\n"
          ]
        }
      ],
      "source": [
        "# Write a Python program to format and display a string containing the user's name and age. (User input required)\n",
        "# Get the user's name and age\n",
        "name = input(\"Enter your name: \")\n",
        "age = int(input(\"Enter your age: \"))\n",
        "\n",
        "# Format the string using f-strings\n",
        "formatted_string = f\"My name is {name} and I am {age} years old.\"\n",
        "\n",
        "# Print the formatted string\n",
        "print(formatted_string)"
      ]
    },
    {
      "cell_type": "markdown",
      "id": "0bde6e5a-0415-4b06-8b5a-95fa252b34eb",
      "metadata": {
        "id": "0bde6e5a-0415-4b06-8b5a-95fa252b34eb"
      },
      "source": [
        "## Control Structures (Conditionals and Loops)"
      ]
    },
    {
      "cell_type": "code",
      "execution_count": 1,
      "id": "aefff5f3-b61e-43e6-a458-7367ef1af9de",
      "metadata": {
        "colab": {
          "base_uri": "https://localhost:8080/"
        },
        "id": "aefff5f3-b61e-43e6-a458-7367ef1af9de",
        "outputId": "7a1b701b-8891-49e2-acdb-c6dcc60e5926"
      },
      "outputs": [
        {
          "output_type": "stream",
          "name": "stdout",
          "text": [
            "Enter a number: 7\n",
            "The number is positive\n"
          ]
        }
      ],
      "source": [
        "# Write a Python program that takes a number as input and checks whether it is positive, negative, or zero.\n",
        "number = float(input(\"Enter a number: \"))\n",
        "\n",
        "if number > 0:\n",
        "    print(\"The number is positive\")\n",
        "elif number < 0:\n",
        "    print(\"The number is negative\")\n",
        "else:\n",
        "    print(\"The number is zero\")\n"
      ]
    },
    {
      "cell_type": "code",
      "execution_count": 3,
      "id": "4dc6d14b-6d22-4348-859a-2a03f9be65f7",
      "metadata": {
        "colab": {
          "base_uri": "https://localhost:8080/"
        },
        "id": "4dc6d14b-6d22-4348-859a-2a03f9be65f7",
        "outputId": "de72f35e-c93d-40bd-f69d-d35330682faf"
      },
      "outputs": [
        {
          "output_type": "stream",
          "name": "stdout",
          "text": [
            "Enter the first number: 78\n",
            "Enter the second number: 98\n",
            "Enter the third number: 76\n",
            "The maximum number is: 98.0\n"
          ]
        }
      ],
      "source": [
        "# Write a Python program to find the maximum of three numbers. (User input for the numbers)\n",
        "# Get input from the user for three numbers\n",
        "num1 = float(input(\"Enter the first number: \"))\n",
        "num2 = float(input(\"Enter the second number: \"))\n",
        "num3 = float(input(\"Enter the third number: \"))\n",
        "\n",
        "# Find the maximum using conditional statements\n",
        "if num1 >= num2 and num1 >= num3:\n",
        "    maximum = num1\n",
        "elif num2 >= num1 and num2 >= num3:\n",
        "    maximum = num2\n",
        "else:\n",
        "    maximum = num3\n",
        "\n",
        "# Print the maximum number\n",
        "print(\"The maximum number is:\", maximum)"
      ]
    },
    {
      "cell_type": "code",
      "execution_count": 4,
      "id": "3f6d1f45-eb68-4142-89d6-510046f21879",
      "metadata": {
        "colab": {
          "base_uri": "https://localhost:8080/"
        },
        "id": "3f6d1f45-eb68-4142-89d6-510046f21879",
        "outputId": "3b9815f6-43ac-4820-9c3c-f871acf07e83"
      },
      "outputs": [
        {
          "output_type": "stream",
          "name": "stdout",
          "text": [
            "Enter a year: 2020\n",
            "2020 is a leap year\n"
          ]
        }
      ],
      "source": [
        "# Write a Python program to check if a year is a leap year. (User input for the year)\n",
        "# Get the year from the user\n",
        "year = int(input(\"Enter a year: \"))\n",
        "\n",
        "# Check if it's a leap year\n",
        "if (year % 4 == 0 and year % 100 != 0) or (year % 400 == 0):\n",
        "    print(year, \"is a leap year\")\n",
        "else:\n",
        "    print(year, \"is not a leap year\")"
      ]
    },
    {
      "cell_type": "code",
      "execution_count": 5,
      "id": "b6a07105-6fa5-4f70-b64b-ebd66afc3c2b",
      "metadata": {
        "colab": {
          "base_uri": "https://localhost:8080/"
        },
        "id": "b6a07105-6fa5-4f70-b64b-ebd66afc3c2b",
        "outputId": "647f620e-0cf4-410c-bdba-75085db21ea7"
      },
      "outputs": [
        {
          "output_type": "stream",
          "name": "stdout",
          "text": [
            "Enter a number: 7\n",
            "7 is not divisible by both 3 and 5\n"
          ]
        }
      ],
      "source": [
        "# Write a Python program to check if a number is divisible by both 3 and 5. (User input for the number)\n",
        "# Get input from the user\n",
        "number = int(input(\"Enter a number: \"))\n",
        "\n",
        "# Check divisibility by 3 and 5\n",
        "if number % 3 == 0 and number % 5 == 0:\n",
        "    print(number, \"is divisible by both 3 and 5\")\n",
        "else:\n",
        "    print(number, \"is not divisible by both 3 and 5\")"
      ]
    },
    {
      "cell_type": "code",
      "execution_count": 6,
      "id": "d10c9005-b85d-42f9-81d0-65d149415888",
      "metadata": {
        "colab": {
          "base_uri": "https://localhost:8080/"
        },
        "id": "d10c9005-b85d-42f9-81d0-65d149415888",
        "outputId": "8813534d-7b76-4fe0-a882-9431cf6c6524"
      },
      "outputs": [
        {
          "output_type": "stream",
          "name": "stdout",
          "text": [
            "Enter a string: 76\n",
            "The string is not a palindrome\n"
          ]
        }
      ],
      "source": [
        "# Write a Python program to check if a string is a palindrome. (User input for the string)\n",
        "# Get the string from the user\n",
        "string = input(\"Enter a string: \")\n",
        "\n",
        "# Remove spaces and convert to lowercase for case-insensitive comparison\n",
        "string = string.replace(\" \", \"\").lower()\n",
        "\n",
        "# Reverse the string\n",
        "reversed_string = string[::-1]\n",
        "\n",
        "# Check if the original and reversed strings are the same\n",
        "if string == reversed_string:\n",
        "    print(\"The string is a palindrome\")\n",
        "else:\n",
        "    print(\"The string is not a palindrome\")"
      ]
    },
    {
      "cell_type": "code",
      "execution_count": 7,
      "id": "82d76cdf-efc6-45c6-ab09-9d1f17b3d857",
      "metadata": {
        "colab": {
          "base_uri": "https://localhost:8080/"
        },
        "id": "82d76cdf-efc6-45c6-ab09-9d1f17b3d857",
        "outputId": "ec1fa595-a32f-4a82-fe9b-ebf1a5889aad"
      },
      "outputs": [
        {
          "output_type": "stream",
          "name": "stdout",
          "text": [
            "1\n",
            "2\n",
            "3\n",
            "4\n",
            "5\n",
            "6\n",
            "7\n",
            "8\n",
            "9\n",
            "10\n"
          ]
        }
      ],
      "source": [
        "# Write a Python program to print numbers from 1 to 10 using a for loop.\n",
        "# Print numbers from 1 to 10\n",
        "for i in range(1, 11):\n",
        "    print(i)"
      ]
    },
    {
      "cell_type": "code",
      "execution_count": 8,
      "id": "d09e8994-e984-4c12-ab1e-1bfc6938a389",
      "metadata": {
        "colab": {
          "base_uri": "https://localhost:8080/"
        },
        "id": "d09e8994-e984-4c12-ab1e-1bfc6938a389",
        "outputId": "287e703a-9592-468d-946e-b8c251b22eae"
      },
      "outputs": [
        {
          "output_type": "stream",
          "name": "stdout",
          "text": [
            "2\n",
            "4\n",
            "6\n",
            "8\n",
            "10\n",
            "12\n",
            "14\n",
            "16\n",
            "18\n",
            "20\n"
          ]
        }
      ],
      "source": [
        "# Write a Python program to print all even numbers from 1 to 20 using a while loop.\n",
        "# Initialize the counter\n",
        "number = 1\n",
        "\n",
        "# While loop to iterate through numbers\n",
        "while number <= 20:\n",
        "    # Check if the number is even\n",
        "    if number % 2 == 0:\n",
        "        print(number)\n",
        "    # Increment the counter\n",
        "    number += 1\n"
      ]
    },
    {
      "cell_type": "code",
      "execution_count": 9,
      "id": "c09ca878-167e-49ca-97f0-247a43c9b472",
      "metadata": {
        "colab": {
          "base_uri": "https://localhost:8080/"
        },
        "id": "c09ca878-167e-49ca-97f0-247a43c9b472",
        "outputId": "d734ab74-7a32-4713-8096-806f175c672f"
      },
      "outputs": [
        {
          "output_type": "stream",
          "name": "stdout",
          "text": [
            "Enter a number: 67\n",
            "Multiplication Table of 67\n",
            "67 x 1 = 67\n",
            "67 x 2 = 134\n",
            "67 x 3 = 201\n",
            "67 x 4 = 268\n",
            "67 x 5 = 335\n",
            "67 x 6 = 402\n",
            "67 x 7 = 469\n",
            "67 x 8 = 536\n",
            "67 x 9 = 603\n",
            "67 x 10 = 670\n"
          ]
        }
      ],
      "source": [
        "# Write a Python program to print the multiplication table of a given number using a for loop. (User input for the number)\n",
        "# Get the number from the user\n",
        "number = int(input(\"Enter a number: \"))\n",
        "\n",
        "# Print the multiplication table\n",
        "print(\"Multiplication Table of\", number)\n",
        "for i in range(1, 11):\n",
        "    product = number * i\n",
        "    print(number, \"x\", i, \"=\", product)"
      ]
    },
    {
      "cell_type": "code",
      "execution_count": 10,
      "id": "b72118ab-e62d-4af9-bcec-e1cc6af31b25",
      "metadata": {
        "colab": {
          "base_uri": "https://localhost:8080/"
        },
        "id": "b72118ab-e62d-4af9-bcec-e1cc6af31b25",
        "outputId": "41981f56-a1ed-45eb-af06-d5350ef4cc24"
      },
      "outputs": [
        {
          "output_type": "stream",
          "name": "stdout",
          "text": [
            "Enter a number (n): 75\n",
            "The sum of numbers from 1 to 75 is: 2850\n"
          ]
        }
      ],
      "source": [
        "# Write a Python program to calculate the sum of all numbers from 1 to n using a while loop. (User input for n)\n",
        "# Get the value of n from the user\n",
        "n = int(input(\"Enter a number (n): \"))\n",
        "\n",
        "# Initialize variables\n",
        "sum_of_numbers = 0\n",
        "counter = 1\n",
        "\n",
        "# While loop to calculate the sum\n",
        "while counter <= n:\n",
        "    sum_of_numbers += counter  # Add the current number to the sum\n",
        "    counter += 1              # Increment the counter\n",
        "\n",
        "# Print the sum\n",
        "print(\"The sum of numbers from 1 to\", n, \"is:\", sum_of_numbers)"
      ]
    },
    {
      "cell_type": "code",
      "execution_count": 11,
      "id": "ae93621f-11a2-40b7-97bc-3002f03ac36a",
      "metadata": {
        "colab": {
          "base_uri": "https://localhost:8080/"
        },
        "id": "ae93621f-11a2-40b7-97bc-3002f03ac36a",
        "outputId": "b7457fd4-69e4-4b68-f0e2-621090c4f729"
      },
      "outputs": [
        {
          "output_type": "stream",
          "name": "stdout",
          "text": [
            "Enter a non-negative integer: 76\n",
            "The factorial of 76 is: 1885494701666050254987932260861146558230394535379329335672487982961844043495537923117729972224000000000000000000\n"
          ]
        }
      ],
      "source": [
        "# Write a Python program to calculate the factorial of a number using a while loop. (User input for the number)\n",
        "# Get the number from the user\n",
        "number = int(input(\"Enter a non-negative integer: \"))\n",
        "\n",
        "# Initialize variables\n",
        "factorial = 1\n",
        "counter = 1\n",
        "\n",
        "# Calculate the factorial using a while loop\n",
        "while counter <= number:\n",
        "    factorial *= counter  # Multiply factorial by the current counter value\n",
        "    counter += 1          # Increment the counter\n",
        "\n",
        "# Print the factorial\n",
        "print(\"The factorial of\", number, \"is:\", factorial)"
      ]
    },
    {
      "cell_type": "code",
      "execution_count": 12,
      "id": "68467ccc-d696-4ef1-84c4-164c9d87f755",
      "metadata": {
        "colab": {
          "base_uri": "https://localhost:8080/"
        },
        "id": "68467ccc-d696-4ef1-84c4-164c9d87f755",
        "outputId": "dd9ef4d0-7201-43dd-b88b-e0350e24f05f"
      },
      "outputs": [
        {
          "output_type": "stream",
          "name": "stdout",
          "text": [
            "Enter the number of terms: 65\n",
            "Fibonacci sequence up to 65 terms:\n",
            "0 1 1 2 3 5 8 13 21 34 55 89 144 233 377 610 987 1597 2584 4181 6765 10946 17711 28657 46368 75025 121393 196418 317811 514229 832040 1346269 2178309 3524578 5702887 9227465 14930352 24157817 39088169 63245986 102334155 165580141 267914296 433494437 701408733 1134903170 1836311903 2971215073 4807526976 7778742049 12586269025 20365011074 32951280099 53316291173 86267571272 139583862445 225851433717 365435296162 591286729879 956722026041 1548008755920 2504730781961 4052739537881 6557470319842 10610209857723 "
          ]
        }
      ],
      "source": [
        "# Write a Python program to print the Fibonacci sequence up to n terms. (User input for n)\n",
        "# Get the number of terms from the user\n",
        "n = int(input(\"Enter the number of terms: \"))\n",
        "\n",
        "# Initialize the first two terms\n",
        "a, b = 0, 1\n",
        "\n",
        "# Initialize the counter\n",
        "count = 0\n",
        "\n",
        "# Check if the number of terms is valid\n",
        "if n <= 0:\n",
        "    print(\"Please enter a positive integer.\")\n",
        "elif n == 1:\n",
        "    print(\"Fibonacci sequence up to\", n, \"term:\", a)\n",
        "else:\n",
        "    print(\"Fibonacci sequence up to\", n, \"terms:\")\n",
        "    while count < n:\n",
        "        print(a, end=\" \")  # Print the current term\n",
        "        a, b = b, a + b    # Update a and b for the next term\n",
        "        count += 1         # Increment the counter"
      ]
    },
    {
      "cell_type": "code",
      "execution_count": 13,
      "id": "5bebd1f3-2606-4102-aa55-01cb1650f632",
      "metadata": {
        "colab": {
          "base_uri": "https://localhost:8080/"
        },
        "id": "5bebd1f3-2606-4102-aa55-01cb1650f632",
        "outputId": "de567287-1d5b-4fc8-fbcb-c46462269bdd"
      },
      "outputs": [
        {
          "output_type": "stream",
          "name": "stdout",
          "text": [
            "Prime numbers from 1 to 100:\n",
            "2 3 5 7 11 13 17 19 23 29 31 37 41 43 47 53 59 61 67 71 73 79 83 89 97 "
          ]
        }
      ],
      "source": [
        "# Write a Python program to find all the prime numbers from 1 to 100.\n",
        "# Function to check if a number is prime\n",
        "def is_prime(number):\n",
        "    \"\"\"Returns True if number is prime, False otherwise.\"\"\"\n",
        "    if number <= 1:\n",
        "        return False  # Numbers less than or equal to 1 are not prime\n",
        "    for i in range(2, int(number**0.5) + 1):\n",
        "        if number % i == 0:\n",
        "            return False  # If divisible by any number, it's not prime\n",
        "    return True  # If not divisible by any number, it's prime\n",
        "\n",
        "# Find and print prime numbers from 1 to 100\n",
        "print(\"Prime numbers from 1 to 100:\")\n",
        "for number in range(2, 101):  # Start from 2 (1 is not prime)\n",
        "    if is_prime(number):\n",
        "        print(number, end=\" \")"
      ]
    },
    {
      "cell_type": "code",
      "execution_count": 14,
      "id": "0a3f894e-52ba-4c0b-9158-a70f31f4fd49",
      "metadata": {
        "colab": {
          "base_uri": "https://localhost:8080/"
        },
        "id": "0a3f894e-52ba-4c0b-9158-a70f31f4fd49",
        "outputId": "b87a8e4a-3a99-4d29-b5f1-213e2cf6f9b3"
      },
      "outputs": [
        {
          "output_type": "stream",
          "name": "stdout",
          "text": [
            "1\n",
            "2\n",
            "3\n",
            "4\n",
            "5\n",
            "6\n",
            "7\n",
            "8\n",
            "9\n",
            "10\n",
            "11\n",
            "12\n",
            "13\n",
            "14\n",
            "15\n",
            "16\n",
            "17\n",
            "18\n",
            "19\n",
            "20\n",
            "21\n",
            "22\n",
            "23\n",
            "24\n",
            "25\n",
            "26\n",
            "27\n",
            "28\n",
            "29\n",
            "30\n",
            "31\n",
            "32\n",
            "33\n",
            "34\n",
            "35\n",
            "36\n",
            "37\n",
            "38\n",
            "39\n",
            "40\n",
            "41\n",
            "42\n",
            "43\n",
            "44\n",
            "45\n",
            "46\n",
            "47\n",
            "48\n",
            "49\n",
            "50\n",
            "Number greater than 50 found: 51\n",
            "Loop finished.\n",
            "1\n",
            "2\n",
            "3\n",
            "4\n",
            "5\n",
            "6\n",
            "7\n",
            "8\n",
            "9\n",
            "10\n",
            "11\n",
            "12\n",
            "13\n",
            "14\n",
            "15\n",
            "16\n",
            "17\n",
            "18\n",
            "19\n",
            "20\n",
            "21\n",
            "22\n",
            "23\n",
            "24\n",
            "25\n",
            "26\n",
            "27\n",
            "28\n",
            "29\n",
            "30\n",
            "31\n",
            "32\n",
            "33\n",
            "34\n",
            "35\n",
            "36\n",
            "37\n",
            "38\n",
            "39\n",
            "40\n",
            "41\n",
            "42\n",
            "43\n",
            "44\n",
            "45\n",
            "46\n",
            "47\n",
            "48\n",
            "49\n",
            "50\n",
            "Number greater than 50 found: 51\n",
            "Loop finished.\n"
          ]
        }
      ],
      "source": [
        "# Write a Python program that breaks out of a loop when a specific condition is met (e.g., when a number greater than 50 is found).\n",
        "# Example using a for loop\n",
        "for number in range(1, 100):\n",
        "    if number > 50:\n",
        "        print(\"Number greater than 50 found:\", number)\n",
        "        break  # Exit the loop\n",
        "    print(number)\n",
        "\n",
        "print(\"Loop finished.\")\n",
        "\n",
        "\n",
        "# Example using a while loop\n",
        "number = 1\n",
        "while number <= 100:\n",
        "    if number > 50:\n",
        "        print(\"Number greater than 50 found:\", number)\n",
        "        break  # Exit the loop\n",
        "    print(number)\n",
        "    number += 1\n",
        "\n",
        "print(\"Loop finished.\")"
      ]
    },
    {
      "cell_type": "code",
      "execution_count": 15,
      "id": "499b91d0-1f1b-494f-af2b-8cc3a06d90ed",
      "metadata": {
        "colab": {
          "base_uri": "https://localhost:8080/"
        },
        "id": "499b91d0-1f1b-494f-af2b-8cc3a06d90ed",
        "outputId": "0a1f6aed-d616-414e-fd36-1beddf67b785"
      },
      "outputs": [
        {
          "output_type": "stream",
          "name": "stdout",
          "text": [
            "1\n",
            "3\n",
            "5\n",
            "7\n",
            "9\n",
            "11\n",
            "13\n",
            "15\n",
            "17\n",
            "19\n"
          ]
        }
      ],
      "source": [
        "# Write a Python program to skip even numbers while printing numbers from 1 to 20 using a for loop.\n",
        "for number in range(1, 21):\n",
        "    if number % 2 == 0:\n",
        "        continue  # Skip even numbers\n",
        "    print(number)"
      ]
    },
    {
      "cell_type": "code",
      "execution_count": 16,
      "id": "f8ffed70-dfde-4262-a2fd-0d35d69b5fb1",
      "metadata": {
        "colab": {
          "base_uri": "https://localhost:8080/"
        },
        "id": "f8ffed70-dfde-4262-a2fd-0d35d69b5fb1",
        "outputId": "654065d5-fec4-404e-c779-e4c79ec5aeb5"
      },
      "outputs": [
        {
          "output_type": "stream",
          "name": "stdout",
          "text": [
            "Enter a string: 67\n",
            "Enter the character to count: 54\n",
            "The character 54 appears 0 times in the string.\n"
          ]
        }
      ],
      "source": [
        "# Write a Python program to count how many times a particular character appears in a string using a for loop. (User input for string and character)\n",
        "# Get the string and character from the user\n",
        "string = input(\"Enter a string: \")\n",
        "character = input(\"Enter the character to count: \")\n",
        "\n",
        "# Initialize the count\n",
        "count = 0\n",
        "\n",
        "# Iterate through the string and count occurrences\n",
        "for char in string:\n",
        "    if char == character:\n",
        "        count += 1\n",
        "\n",
        "# Print the count\n",
        "print(\"The character\", character, \"appears\", count, \"times in the string.\")"
      ]
    },
    {
      "cell_type": "code",
      "execution_count": 17,
      "id": "01f976ed-4dcd-4842-ae84-d3b5cc42d011",
      "metadata": {
        "colab": {
          "base_uri": "https://localhost:8080/"
        },
        "id": "01f976ed-4dcd-4842-ae84-d3b5cc42d011",
        "outputId": "5659890c-01ea-43d5-86f8-39ec41c95da0"
      },
      "outputs": [
        {
          "output_type": "stream",
          "name": "stdout",
          "text": [
            "Enter a number: 65\n",
            "The sum of digits is: 11\n"
          ]
        }
      ],
      "source": [
        "# Write a Python program to calculate the sum of digits of a number. (User input for the number)\n",
        "# Get the number from the user\n",
        "number = int(input(\"Enter a number: \"))\n",
        "\n",
        "# Initialize the sum of digits\n",
        "sum_of_digits = 0\n",
        "\n",
        "# Calculate the sum of digits using a while loop\n",
        "while number > 0:\n",
        "    digit = number % 10  # Get the last digit\n",
        "    sum_of_digits += digit  # Add the digit to the sum\n",
        "    number //= 10  # Remove the last digit from the number\n",
        "\n",
        "# Print the sum of digits\n",
        "print(\"The sum of digits is:\", sum_of_digits)"
      ]
    },
    {
      "cell_type": "markdown",
      "id": "fe644fae-f262-48dd-b7ff-08eb747d297e",
      "metadata": {
        "id": "fe644fae-f262-48dd-b7ff-08eb747d297e"
      },
      "source": [
        "## Data Structures (Lists, Tuples, Sets, Dictionaries)"
      ]
    },
    {
      "cell_type": "code",
      "execution_count": 35,
      "id": "a0333c26-8e19-4c71-9722-d32cf8625ef6",
      "metadata": {
        "colab": {
          "base_uri": "https://localhost:8080/"
        },
        "id": "a0333c26-8e19-4c71-9722-d32cf8625ef6",
        "outputId": "4db11609-97e3-4299-aa18-506567b3d771"
      },
      "outputs": [
        {
          "output_type": "stream",
          "name": "stdout",
          "text": [
            "The sum of the elements in the list is: 15\n"
          ]
        }
      ],
      "source": [
        "# Write a Python program to create a list of integers and print the sum of the elements.\n",
        "numbers = [1, 2, 3, 4, 5]\n",
        "total_sum = 0\n",
        "\n",
        "for number in numbers:\n",
        "    total_sum += number\n",
        "\n",
        "print(\"The sum of the elements in the list is:\", total_sum)"
      ]
    },
    {
      "cell_type": "code",
      "execution_count": 36,
      "id": "5a23046d-80b0-4f8d-a02f-4e3d833c0443",
      "metadata": {
        "colab": {
          "base_uri": "https://localhost:8080/"
        },
        "id": "5a23046d-80b0-4f8d-a02f-4e3d833c0443",
        "outputId": "86dc42c8-2cbc-4f15-ee4b-e7198c86aed8"
      },
      "outputs": [
        {
          "output_type": "stream",
          "name": "stdout",
          "text": [
            "The largest element in the list is: 30\n"
          ]
        }
      ],
      "source": [
        "# Write a Python program to find the largest element in a list.\n",
        "# Create a list of numbers\n",
        "numbers = [10, 5, 20, 15, 30]  # You can modify this list with your own numbers\n",
        "\n",
        "# Find the largest element using the max() function\n",
        "largest_element = max(numbers)\n",
        "\n",
        "# Print the largest element\n",
        "print(\"The largest element in the list is:\", largest_element)"
      ]
    },
    {
      "cell_type": "code",
      "execution_count": 37,
      "id": "9939c2d2-90fd-4e80-81bc-227c72e60e37",
      "metadata": {
        "colab": {
          "base_uri": "https://localhost:8080/"
        },
        "id": "9939c2d2-90fd-4e80-81bc-227c72e60e37",
        "outputId": "f7b847bf-0307-4739-86a2-b7496e135bbd"
      },
      "outputs": [
        {
          "output_type": "stream",
          "name": "stdout",
          "text": [
            "Reversed list: [5, 4, 3, 2, 1]\n"
          ]
        }
      ],
      "source": [
        "# Write a Python program to reverse a list.\n",
        "# Create a list\n",
        "my_list = [1, 2, 3, 4, 5]\n",
        "\n",
        "# Reverse the list using the reverse() method\n",
        "my_list.reverse()\n",
        "\n",
        "# Print the reversed list\n",
        "print(\"Reversed list:\", my_list)"
      ]
    },
    {
      "cell_type": "code",
      "execution_count": 40,
      "id": "aa287db8-057b-48d4-a6d8-18cc53eb7178",
      "metadata": {
        "colab": {
          "base_uri": "https://localhost:8080/"
        },
        "id": "aa287db8-057b-48d4-a6d8-18cc53eb7178",
        "outputId": "bef9d203-f58a-41a1-f923-4284d166554e"
      },
      "outputs": [
        {
          "output_type": "stream",
          "name": "stdout",
          "text": [
            "Original list: [1, 2, 3, 4, 3, 5, 3]\n",
            "List after removing 3 : [1, 2, 4, 5]\n"
          ]
        }
      ],
      "source": [
        "# Write a Python program to remove all occurrences of a specific element from a list.\n",
        "def remove_occurrences(lst, element):\n",
        "    \"\"\"\n",
        "    Remove all occurrences of a specific element from a list.\n",
        "\n",
        "    Parameters:\n",
        "    lst (list): The original list.\n",
        "    element: The element to be removed.\n",
        "\n",
        "    Returns:\n",
        "    list: A new list with the element removed.\n",
        "    \"\"\"\n",
        "    return [item for item in lst if item != element]\n",
        "\n",
        "# Example usage\n",
        "original_list = [1, 2, 3, 4, 3, 5, 3]\n",
        "element_to_remove = 3\n",
        "result = remove_occurrences(original_list, element_to_remove)\n",
        "print(\"Original list:\", original_list)\n",
        "print(\"List after removing\", element_to_remove, \":\", result)\n"
      ]
    },
    {
      "cell_type": "code",
      "execution_count": 41,
      "id": "da9ba926-0ab5-46e9-b66d-128088c3225b",
      "metadata": {
        "colab": {
          "base_uri": "https://localhost:8080/"
        },
        "id": "da9ba926-0ab5-46e9-b66d-128088c3225b",
        "outputId": "37796efe-7ad5-43d7-8d15-2c153adb26c5"
      },
      "outputs": [
        {
          "output_type": "stream",
          "name": "stdout",
          "text": [
            "The index of 30 is: 2\n"
          ]
        }
      ],
      "source": [
        "# Write a Python program to find the index of an element in a list.\n",
        "# Create a list\n",
        "my_list = [10, 20, 30, 40, 50]\n",
        "\n",
        "# Element to find the index of\n",
        "element_to_find = 30\n",
        "\n",
        "# Find the index using the index() method\n",
        "try:\n",
        "    index = my_list.index(element_to_find)\n",
        "    print(\"The index of\", element_to_find, \"is:\", index)\n",
        "except ValueError:\n",
        "    print(element_to_find, \"is not found in the list.\")"
      ]
    },
    {
      "cell_type": "code",
      "execution_count": 43,
      "id": "9601b6e4-cb90-4e1f-87b4-38ed37076e0d",
      "metadata": {
        "colab": {
          "base_uri": "https://localhost:8080/"
        },
        "id": "9601b6e4-cb90-4e1f-87b4-38ed37076e0d",
        "outputId": "48b77002-8f87-464e-fe37-f2930982df16"
      },
      "outputs": [
        {
          "output_type": "stream",
          "name": "stdout",
          "text": [
            "30 exists in the list.\n"
          ]
        }
      ],
      "source": [
        "# Write a Python program to find if a specific element exists in a list.\n",
        "# Create a list\n",
        "my_list = [10, 20, 30, 40, 50]\n",
        "\n",
        "# Element to search for\n",
        "element_to_find = 30\n",
        "\n",
        "# Check if the element exists using the 'in' keyword\n",
        "if element_to_find in my_list:\n",
        "    print(element_to_find, \"exists in the list.\")\n",
        "else:\n",
        "    print(element_to_find, \"does not exist in the list.\")"
      ]
    },
    {
      "cell_type": "code",
      "execution_count": 44,
      "id": "9d8e7311-81de-4da2-826c-c4dcad28ed9f",
      "metadata": {
        "colab": {
          "base_uri": "https://localhost:8080/"
        },
        "id": "9d8e7311-81de-4da2-826c-c4dcad28ed9f",
        "outputId": "42d11f66-501f-48e0-a82f-a89dea7f4342"
      },
      "outputs": [
        {
          "output_type": "stream",
          "name": "stdout",
          "text": [
            "List without duplicates: [10, 20, 30, 40, 50]\n"
          ]
        }
      ],
      "source": [
        "# Write a Python program to remove duplicates from a list.\n",
        "# Create a list with duplicates\n",
        "my_list = [10, 20, 30, 20, 40, 10, 50, 30]\n",
        "\n",
        "# Remove duplicates using a list comprehension and a set to track seen elements\n",
        "unique_list = []\n",
        "seen = set()\n",
        "\n",
        "for item in my_list:\n",
        "    if item not in seen:\n",
        "        unique_list.append(item)\n",
        "        seen.add(item)\n",
        "\n",
        "# Print the list without duplicates\n",
        "print(\"List without duplicates:\", unique_list)"
      ]
    },
    {
      "cell_type": "code",
      "execution_count": 45,
      "id": "09e5121b-97b3-42e4-8025-f28f3470681b",
      "metadata": {
        "colab": {
          "base_uri": "https://localhost:8080/"
        },
        "id": "09e5121b-97b3-42e4-8025-f28f3470681b",
        "outputId": "c2aa3756-04c8-4ce7-b911-e98a472abebd"
      },
      "outputs": [
        {
          "output_type": "stream",
          "name": "stdout",
          "text": [
            "The element 20 appears 3 times in the list.\n"
          ]
        }
      ],
      "source": [
        "# Write a Python program to count the occurrences of an element in a list.\n",
        "# Create a list\n",
        "my_list = [10, 20, 30, 20, 40, 10, 50, 30, 20]\n",
        "\n",
        "# Element to count occurrences of\n",
        "element_to_count = 20\n",
        "\n",
        "# Count occurrences using the count() method\n",
        "count = my_list.count(element_to_count)\n",
        "\n",
        "# Print the count\n",
        "print(\"The element\", element_to_count, \"appears\", count, \"times in the list.\")"
      ]
    },
    {
      "cell_type": "code",
      "execution_count": 46,
      "id": "b774b741-e9a6-45db-8f00-e6d9b734d03a",
      "metadata": {
        "colab": {
          "base_uri": "https://localhost:8080/"
        },
        "id": "b774b741-e9a6-45db-8f00-e6d9b734d03a",
        "outputId": "9f127600-3b56-4145-b3f2-06e6dae28169"
      },
      "outputs": [
        {
          "output_type": "stream",
          "name": "stdout",
          "text": [
            "Number of even numbers in the list: 5\n"
          ]
        }
      ],
      "source": [
        "# Write a Python program to get the number of even numbers in a list.\n",
        "# Create a list of numbers\n",
        "numbers = [1, 2, 3, 4, 5, 6, 7, 8, 9, 10]\n",
        "\n",
        "# Count the even numbers using a list comprehension\n",
        "even_count = len([num for num in numbers if num % 2 == 0])\n",
        "\n",
        "# Print the count of even numbers\n",
        "print(\"Number of even numbers in the list:\", even_count)"
      ]
    },
    {
      "cell_type": "code",
      "execution_count": 47,
      "id": "5ce4fd2b-ab16-4b40-9ac2-d19c244d8d96",
      "metadata": {
        "colab": {
          "base_uri": "https://localhost:8080/"
        },
        "id": "5ce4fd2b-ab16-4b40-9ac2-d19c244d8d96",
        "outputId": "265064dd-1e2b-437a-d948-1f2ed282feea"
      },
      "outputs": [
        {
          "output_type": "stream",
          "name": "stdout",
          "text": [
            "(1, 2, 3, 'hello', 4.5)\n"
          ]
        }
      ],
      "source": [
        "# Write a Python program to create a tuple and print it.\n",
        "# Create a tuple\n",
        "my_tuple = (1, 2, 3, \"hello\", 4.5)\n",
        "\n",
        "# Print the tuple\n",
        "print(my_tuple)"
      ]
    },
    {
      "cell_type": "code",
      "execution_count": 48,
      "id": "5c04f880-6e96-4ef4-9f4b-df21aae76ff1",
      "metadata": {
        "colab": {
          "base_uri": "https://localhost:8080/"
        },
        "id": "5c04f880-6e96-4ef4-9f4b-df21aae76ff1",
        "outputId": "6663aafd-851e-4266-b3bd-05bb4528a525"
      },
      "outputs": [
        {
          "output_type": "stream",
          "name": "stdout",
          "text": [
            "List: [1, 2, 3, 'hello', 4.5]\n",
            "Tuple: (1, 2, 3, 'hello', 4.5)\n"
          ]
        }
      ],
      "source": [
        "# Write a Python program to convert a tuple to a list and vice versa.\n",
        "# Create a tuple\n",
        "my_tuple = (1, 2, 3, \"hello\", 4.5)\n",
        "\n",
        "# Convert tuple to list\n",
        "my_list = list(my_tuple)\n",
        "\n",
        "# Print the list\n",
        "print(\"List:\", my_list)\n",
        "\n",
        "# Convert list back to tuple\n",
        "my_new_tuple = tuple(my_list)\n",
        "\n",
        "# Print the new tuple\n",
        "print(\"Tuple:\", my_new_tuple)"
      ]
    },
    {
      "cell_type": "code",
      "execution_count": 49,
      "id": "d5192acc-27f3-456e-9c72-3b276a587bf5",
      "metadata": {
        "colab": {
          "base_uri": "https://localhost:8080/"
        },
        "id": "d5192acc-27f3-456e-9c72-3b276a587bf5",
        "outputId": "7d76c40c-3e94-480f-c74c-58a404daa6c1"
      },
      "outputs": [
        {
          "output_type": "stream",
          "name": "stdout",
          "text": [
            "Maximum value: 30\n",
            "Minimum value: 5\n"
          ]
        }
      ],
      "source": [
        "# Write a Python program to find the maximum and minimum values in a tuple.\n",
        "# Create a tuple\n",
        "my_tuple = (10, 5, 20, 15, 30)\n",
        "\n",
        "# Find the maximum and minimum values using max() and min()\n",
        "maximum_value = max(my_tuple)\n",
        "minimum_value = min(my_tuple)\n",
        "\n",
        "# Print the results\n",
        "print(\"Maximum value:\", maximum_value)\n",
        "print(\"Minimum value:\", minimum_value)"
      ]
    },
    {
      "cell_type": "code",
      "execution_count": 50,
      "id": "43f0a340-9407-4302-af7e-4e63db578bbf",
      "metadata": {
        "colab": {
          "base_uri": "https://localhost:8080/"
        },
        "id": "43f0a340-9407-4302-af7e-4e63db578bbf",
        "outputId": "ff0ffff6-0bd0-4851-ce91-fd7b457c4207"
      },
      "outputs": [
        {
          "output_type": "stream",
          "name": "stdout",
          "text": [
            "a = 10\n",
            "b = 20\n",
            "c = 30\n",
            "d = hello\n"
          ]
        }
      ],
      "source": [
        "# Write a Python program to unpack a tuple into variables.\n",
        "# Create a tuple\n",
        "my_tuple = (10, 20, 30, \"hello\")\n",
        "\n",
        "# Unpack the tuple into variables\n",
        "a, b, c, d = my_tuple\n",
        "\n",
        "# Print the variables\n",
        "print(\"a =\", a)\n",
        "print(\"b =\", b)\n",
        "print(\"c =\", c)\n",
        "print(\"d =\", d)"
      ]
    },
    {
      "cell_type": "code",
      "execution_count": 51,
      "id": "46e96e29-2157-4b9f-bb24-0bd973eada9f",
      "metadata": {
        "colab": {
          "base_uri": "https://localhost:8080/"
        },
        "id": "46e96e29-2157-4b9f-bb24-0bd973eada9f",
        "outputId": "76bde3b8-a83b-4523-d750-977627c94585"
      },
      "outputs": [
        {
          "output_type": "stream",
          "name": "stdout",
          "text": [
            "Set after adding 4: {1, 2, 3, 4}\n",
            "3 exists in the set.\n"
          ]
        }
      ],
      "source": [
        "# Write a Python program to add an element to a set and check if an element exists in the set.\n",
        "# Create a set\n",
        "my_set = {1, 2, 3}\n",
        "\n",
        "# Add an element to the set\n",
        "my_set.add(4)\n",
        "\n",
        "# Print the updated set\n",
        "print(\"Set after adding 4:\", my_set)\n",
        "\n",
        "# Check if an element exists in the set\n",
        "element_to_check = 3\n",
        "\n",
        "if element_to_check in my_set:\n",
        "    print(element_to_check, \"exists in the set.\")\n",
        "else:\n",
        "    print(element_to_check, \"does not exist in the set.\")"
      ]
    },
    {
      "cell_type": "code",
      "execution_count": 52,
      "id": "d81a803b-fd80-403e-9ae3-680ef44a3d86",
      "metadata": {
        "colab": {
          "base_uri": "https://localhost:8080/"
        },
        "id": "d81a803b-fd80-403e-9ae3-680ef44a3d86",
        "outputId": "41cad60c-e5ae-4045-82bc-187d70278e1a"
      },
      "outputs": [
        {
          "output_type": "stream",
          "name": "stdout",
          "text": [
            "{'name': 'Alice', 'age': 30, 'city': 'New York'}\n"
          ]
        }
      ],
      "source": [
        "# Write a Python program to create a dictionary with keys and values and print it.\n",
        "# Create a dictionary\n",
        "my_dict = {\n",
        "    \"name\": \"Alice\",\n",
        "    \"age\": 30,\n",
        "    \"city\": \"New York\"\n",
        "}\n",
        "\n",
        "# Print the dictionary\n",
        "print(my_dict)"
      ]
    },
    {
      "cell_type": "code",
      "execution_count": 53,
      "id": "7432174b-fe75-4371-b23a-e2c5d62edb15",
      "metadata": {
        "colab": {
          "base_uri": "https://localhost:8080/"
        },
        "id": "7432174b-fe75-4371-b23a-e2c5d62edb15",
        "outputId": "fd3164fb-ff5c-4f59-e920-140611c2f13a"
      },
      "outputs": [
        {
          "output_type": "stream",
          "name": "stdout",
          "text": [
            "Name: Alice\n",
            "Age: 30\n"
          ]
        }
      ],
      "source": [
        "# Write a Python program to access a dictionary value using a key.\n",
        "# Create a dictionary\n",
        "my_dict = {\n",
        "    \"name\": \"Alice\",\n",
        "    \"age\": 30,\n",
        "    \"city\": \"New York\"\n",
        "}\n",
        "\n",
        "# Access the value using the key\n",
        "name = my_dict[\"name\"]\n",
        "age = my_dict[\"age\"]\n",
        "\n",
        "# Print the values\n",
        "print(\"Name:\", name)\n",
        "print(\"Age:\", age)"
      ]
    },
    {
      "cell_type": "code",
      "execution_count": 54,
      "id": "000b3260-d91f-41f2-9729-4b0124f2c4d2",
      "metadata": {
        "colab": {
          "base_uri": "https://localhost:8080/"
        },
        "id": "000b3260-d91f-41f2-9729-4b0124f2c4d2",
        "outputId": "2f529cf9-f23d-418a-bbcf-a958c7c8554f"
      },
      "outputs": [
        {
          "output_type": "stream",
          "name": "stdout",
          "text": [
            "age exists in the dictionary.\n"
          ]
        }
      ],
      "source": [
        "# Write a Python program to check if a key exists in a dictionary.\n",
        "# Create a dictionary\n",
        "my_dict = {\n",
        "    \"name\": \"Alice\",\n",
        "    \"age\": 30,\n",
        "    \"city\": \"New York\"\n",
        "}\n",
        "\n",
        "# Key to check\n",
        "key_to_check = \"age\"\n",
        "\n",
        "# Check if the key exists using the 'in' keyword\n",
        "if key_to_check in my_dict:\n",
        "    print(key_to_check, \"exists in the dictionary.\")\n",
        "else:\n",
        "    print(key_to_check, \"does not exist in the dictionary.\")"
      ]
    },
    {
      "cell_type": "code",
      "execution_count": 55,
      "id": "c4b1a942-818e-42c1-b742-1fabe80fca6d",
      "metadata": {
        "colab": {
          "base_uri": "https://localhost:8080/"
        },
        "id": "c4b1a942-818e-42c1-b742-1fabe80fca6d",
        "outputId": "83112c8a-e7c7-4060-ec80-e24d363ec85d"
      },
      "outputs": [
        {
          "output_type": "stream",
          "name": "stdout",
          "text": [
            "Merged dictionary: {'name': 'Alice', 'age': 30, 'city': 'New York', 'country': 'USA'}\n"
          ]
        }
      ],
      "source": [
        "# Write a Python program to merge two dictionaries.\n",
        "# Create two dictionaries\n",
        "dict1 = {\"name\": \"Alice\", \"age\": 30}\n",
        "dict2 = {\"city\": \"New York\", \"country\": \"USA\"}\n",
        "\n",
        "# Merge the dictionaries using the update() method\n",
        "dict1.update(dict2)\n",
        "\n",
        "# Print the merged dictionary\n",
        "print(\"Merged dictionary:\", dict1)"
      ]
    },
    {
      "cell_type": "code",
      "execution_count": 56,
      "id": "a78f1070-3ff3-436a-8391-153f019f53cd",
      "metadata": {
        "colab": {
          "base_uri": "https://localhost:8080/"
        },
        "id": "a78f1070-3ff3-436a-8391-153f019f53cd",
        "outputId": "e989dd86-c270-454b-e708-c80d7cf53268"
      },
      "outputs": [
        {
          "output_type": "stream",
          "name": "stdout",
          "text": [
            "Dictionary after removing age: {'name': 'Alice', 'city': 'New York'}\n"
          ]
        }
      ],
      "source": [
        "# Write a Python program to remove a key from a dictionary.\n",
        "# Create a dictionary\n",
        "my_dict = {\"name\": \"Alice\", \"age\": 30, \"city\": \"New York\"}\n",
        "\n",
        "# Key to remove\n",
        "key_to_remove = \"age\"\n",
        "\n",
        "# Remove the key using the del keyword\n",
        "del my_dict[key_to_remove]\n",
        "\n",
        "# Print the updated dictionary\n",
        "print(\"Dictionary after removing\", key_to_remove + \":\", my_dict)"
      ]
    },
    {
      "cell_type": "code",
      "execution_count": 57,
      "id": "fcba0267-8cc4-4e89-9e78-2d820916c177",
      "metadata": {
        "colab": {
          "base_uri": "https://localhost:8080/"
        },
        "id": "fcba0267-8cc4-4e89-9e78-2d820916c177",
        "outputId": "2acbe47a-389b-4f8f-ba43-c5251aefa4dc"
      },
      "outputs": [
        {
          "output_type": "stream",
          "name": "stdout",
          "text": [
            "Number of keys in the dictionary: 3\n"
          ]
        }
      ],
      "source": [
        "# Write a Python program to get the number of keys in a dictionary.\n",
        "# Create a dictionary\n",
        "my_dict = {\"name\": \"Alice\", \"age\": 30, \"city\": \"New York\"}\n",
        "\n",
        "# Get the number of keys using the len() function\n",
        "num_keys = len(my_dict)\n",
        "\n",
        "# Print the number of keys\n",
        "print(\"Number of keys in the dictionary:\", num_keys)\n"
      ]
    },
    {
      "cell_type": "code",
      "execution_count": 59,
      "id": "d4c5fd77-9656-43e5-8fe2-be7dca23eb6d",
      "metadata": {
        "colab": {
          "base_uri": "https://localhost:8080/"
        },
        "id": "d4c5fd77-9656-43e5-8fe2-be7dca23eb6d",
        "outputId": "72c87a12-86fb-4e2d-ee25-adef2b10286f"
      },
      "outputs": [
        {
          "output_type": "stream",
          "name": "stdout",
          "text": [
            "Dictionary: {'a': 10, 'b': 20, 'c': 5, 'd': 15}\n",
            "Smallest value: 5\n",
            "Largest value: 20\n"
          ]
        }
      ],
      "source": [
        "# Write a Python program to find the largest and smallest values in a dictionary\n",
        "def find_largest_and_smallest(dictionary):\n",
        "    \"\"\"\n",
        "    Find the largest and smallest values in a dictionary.\n",
        "\n",
        "    Parameters:\n",
        "    dictionary (dict): A dictionary with values to compare.\n",
        "\n",
        "    Returns:\n",
        "    tuple: A tuple containing the smallest and largest values.\n",
        "    \"\"\"\n",
        "    if not dictionary:\n",
        "        return None, None  # Return None if the dictionary is empty\n",
        "\n",
        "    values = dictionary.values()\n",
        "    smallest = min(values)\n",
        "    largest = max(values)\n",
        "    return smallest, largest\n",
        "\n",
        "# Example usage\n",
        "example_dict = {'a': 10, 'b': 20, 'c': 5, 'd': 15}\n",
        "smallest, largest = find_largest_and_smallest(example_dict)\n",
        "\n",
        "print(\"Dictionary:\", example_dict)\n",
        "print(\"Smallest value:\", smallest)\n",
        "print(\"Largest value:\", largest)\n"
      ]
    },
    {
      "cell_type": "markdown",
      "id": "7830b8cc-9a90-45a2-8e4a-6f3c2b8b133b",
      "metadata": {
        "id": "7830b8cc-9a90-45a2-8e4a-6f3c2b8b133b"
      },
      "source": [
        "## Functions (User-Defined, Arguments, Keyword Arguments, Return Values)"
      ]
    },
    {
      "cell_type": "code",
      "execution_count": 60,
      "id": "06a33fba-c6b1-4989-90f4-b647d1fe1627",
      "metadata": {
        "colab": {
          "base_uri": "https://localhost:8080/"
        },
        "id": "06a33fba-c6b1-4989-90f4-b647d1fe1627",
        "outputId": "67112edc-4b5f-4f25-f1e9-b26a15b14750"
      },
      "outputs": [
        {
          "output_type": "stream",
          "name": "stdout",
          "text": [
            "Dictionary: {'a': 10, 'b': 20, 'c': 5, 'd': 15}\n",
            "Smallest value: 5\n",
            "Largest value: 20\n"
          ]
        }
      ],
      "source": [
        "# Write a Python function that returns the square of a number.\n",
        "def find_largest_and_smallest(dictionary):\n",
        "    \"\"\"\n",
        "    Find the largest and smallest values in a dictionary.\n",
        "\n",
        "    Parameters:\n",
        "    dictionary (dict): A dictionary with values to compare.\n",
        "\n",
        "    Returns:\n",
        "    tuple: A tuple containing the smallest and largest values.\n",
        "    \"\"\"\n",
        "    if not dictionary:\n",
        "        return None, None  # Return None if the dictionary is empty\n",
        "\n",
        "    values = dictionary.values()\n",
        "    smallest = min(values)\n",
        "    largest = max(values)\n",
        "    return smallest, largest\n",
        "\n",
        "# Example usage\n",
        "example_dict = {'a': 10, 'b': 20, 'c': 5, 'd': 15}\n",
        "smallest, largest = find_largest_and_smallest(example_dict)\n",
        "\n",
        "print(\"Dictionary:\", example_dict)\n",
        "print(\"Smallest value:\", smallest)\n",
        "print(\"Largest value:\", largest)\n"
      ]
    },
    {
      "cell_type": "code",
      "execution_count": 61,
      "id": "91d90a4a-7329-45db-893b-caed8450ba96",
      "metadata": {
        "colab": {
          "base_uri": "https://localhost:8080/"
        },
        "id": "91d90a4a-7329-45db-893b-caed8450ba96",
        "outputId": "051ec8d0-98c2-4802-e849-d40d4d8df21f"
      },
      "outputs": [
        {
          "output_type": "stream",
          "name": "stdout",
          "text": [
            "The square of 5 is 25\n"
          ]
        }
      ],
      "source": [
        "# Write a Python function that accepts two parameters and returns their sum.\n",
        "def square_number(num):\n",
        "    \"\"\"\n",
        "    Return the square of a given number.\n",
        "\n",
        "    Parameters:\n",
        "    num (int or float): The number to be squared.\n",
        "\n",
        "    Returns:\n",
        "    int or float: The square of the number.\n",
        "    \"\"\"\n",
        "    return num ** 2\n",
        "\n",
        "# Example usage\n",
        "number = 5\n",
        "result = square_number(number)\n",
        "print(f\"The square of {number} is {result}\")\n"
      ]
    },
    {
      "cell_type": "code",
      "execution_count": 62,
      "id": "dec2f9a5-90c5-478b-890b-0a506ecf45d3",
      "metadata": {
        "colab": {
          "base_uri": "https://localhost:8080/"
        },
        "id": "dec2f9a5-90c5-478b-890b-0a506ecf45d3",
        "outputId": "4fc93ae3-d801-4846-d6e3-b80012b6bd71"
      },
      "outputs": [
        {
          "output_type": "stream",
          "name": "stdout",
          "text": [
            "Enter a number: 56\n",
            "56 is not a prime number.\n"
          ]
        }
      ],
      "source": [
        "# Write a Python function to check if a given number is prime.\n",
        "def is_prime(number):\n",
        "    \"\"\"\n",
        "    Checks if a given number is prime.\n",
        "\n",
        "    Args:\n",
        "        number: The number to check.\n",
        "\n",
        "    Returns:\n",
        "        True if the number is prime, False otherwise.\n",
        "    \"\"\"\n",
        "    # Prime numbers are greater than 1\n",
        "    if number <= 1:\n",
        "        return False\n",
        "\n",
        "    # Check if the number is divisible by any number from 2 to the square root of the number\n",
        "    for i in range(2, int(number**0.5) + 1):\n",
        "        if number % i == 0:\n",
        "            return False\n",
        "\n",
        "    # If the number is not divisible by any number in the loop, it is prime\n",
        "    return True\n",
        "\n",
        "# Get input from the user\n",
        "number = int(input(\"Enter a number: \"))\n",
        "\n",
        "# Check if the number is prime and print the result\n",
        "if is_prime(number):\n",
        "    print(number, \"is a prime number.\")\n",
        "else:\n",
        "    print(number, \"is not a prime number.\")"
      ]
    },
    {
      "cell_type": "code",
      "execution_count": 63,
      "id": "56337441-68c3-45df-8733-a34cde0533a5",
      "metadata": {
        "colab": {
          "base_uri": "https://localhost:8080/"
        },
        "id": "56337441-68c3-45df-8733-a34cde0533a5",
        "outputId": "0dc1b803-3bf0-42dc-9056-d19d1073a476"
      },
      "outputs": [
        {
          "output_type": "stream",
          "name": "stdout",
          "text": [
            "Enter a non-negative integer: 65\n",
            "The factorial of 65 is 8247650592082470666723170306785496252186258551345437492922123134388955774976000000000000000\n"
          ]
        }
      ],
      "source": [
        "# Write a Python function to calculate the factorial of a number using recursion.\n",
        "def factorial(n):\n",
        "    \"\"\"\n",
        "    Calculates the factorial of a non-negative integer using recursion.\n",
        "\n",
        "    Args:\n",
        "        n: The non-negative integer.\n",
        "\n",
        "    Returns:\n",
        "        The factorial of n.\n",
        "    \"\"\"\n",
        "    if n == 0:\n",
        "        return 1\n",
        "    else:\n",
        "        return n * factorial(n - 1)\n",
        "\n",
        "# Get input from the user\n",
        "num = int(input(\"Enter a non-negative integer: \"))\n",
        "\n",
        "# Calculate and print the factorial\n",
        "if num >= 0:\n",
        "    result = factorial(num)\n",
        "    print(\"The factorial of\", num, \"is\", result)\n",
        "else:\n",
        "    print(\"Factorial is not defined for negative numbers.\")"
      ]
    },
    {
      "cell_type": "code",
      "execution_count": 64,
      "id": "84a2d010-e7b2-409b-b1f4-99bf806bb77a",
      "metadata": {
        "colab": {
          "base_uri": "https://localhost:8080/"
        },
        "id": "84a2d010-e7b2-409b-b1f4-99bf806bb77a",
        "outputId": "193138e4-0e15-4171-b388-8941023df508"
      },
      "outputs": [
        {
          "output_type": "stream",
          "name": "stdout",
          "text": [
            "2 raised to the power of 3 is 8\n"
          ]
        }
      ],
      "source": [
        "# Write a Python function to calculate the power of a number using recursion.\n",
        "def power(base, exponent):\n",
        "    \"\"\"\n",
        "    Calculate the power of a number using recursion.\n",
        "\n",
        "    Parameters:\n",
        "    base (int or float): The base number.\n",
        "    exponent (int): The exponent (must be a non-negative integer).\n",
        "\n",
        "    Returns:\n",
        "    int or float: The result of base raised to the power of exponent.\n",
        "    \"\"\"\n",
        "    if exponent == 0:\n",
        "        return 1  # Base case: any number to the power of 0 is 1\n",
        "    return base * power(base, exponent - 1)  # Recursive case\n",
        "\n",
        "# Example usage\n",
        "base = 2\n",
        "exponent = 3\n",
        "result = power(base, exponent)\n",
        "print(f\"{base} raised to the power of {exponent} is {result}\")\n"
      ]
    },
    {
      "cell_type": "code",
      "execution_count": 67,
      "id": "ec44911e-7820-46cc-96a3-4ca443888837",
      "metadata": {
        "colab": {
          "base_uri": "https://localhost:8080/"
        },
        "id": "ec44911e-7820-46cc-96a3-4ca443888837",
        "outputId": "d4a40071-034f-4213-cbd7-12c79c91a151"
      },
      "outputs": [
        {
          "output_type": "stream",
          "name": "stdout",
          "text": [
            "Length of the list: 5\n"
          ]
        }
      ],
      "source": [
        "# Write a Python function to accept a list and return its length without using the built-in len() function\n",
        "def list_length(my_list):\n",
        "    \"\"\"\n",
        "    Calculates the length of a list without using the len() function.\n",
        "\n",
        "    Args:\n",
        "        my_list: The list whose length needs to be calculated.\n",
        "\n",
        "    Returns:\n",
        "        The length of the list.\n",
        "    \"\"\"\n",
        "    count = 0\n",
        "    for _ in my_list:  # Iterate through the list, using _ as a placeholder variable\n",
        "        count += 1     # Increment the count for each element\n",
        "    return count\n",
        "\n",
        "# Example usage\n",
        "my_list = [1, 2, 3, 4, 5]\n",
        "length = list_length(my_list)\n",
        "print(\"Length of the list:\", length)  # Output: Length of the list: 5\n"
      ]
    },
    {
      "cell_type": "code",
      "execution_count": 101,
      "id": "fb4c08e1-34f3-487a-a1c6-77cd60fb4836",
      "metadata": {
        "id": "fb4c08e1-34f3-487a-a1c6-77cd60fb4836"
      },
      "outputs": [],
      "source": [
        "# Write a Python function that accepts both positional and keyword arguments and prints the sum of positional arguments.\n",
        "\n",
        "def sum_positional(*args, **kwargs):\n",
        "    # Calculate sum of positional arguments\n",
        "    total = sum(args)\n",
        "    print(f\"the sum of the positional arguments is:{total}\")\n",
        "    sum_positional(1,2,3,4,5,name=\"geetha\",age=25)\n",
        "\n",
        "\n"
      ]
    },
    {
      "cell_type": "code",
      "execution_count": 72,
      "id": "f4ffc7a8-f579-461c-b507-4085a0477283",
      "metadata": {
        "colab": {
          "base_uri": "https://localhost:8080/"
        },
        "id": "f4ffc7a8-f579-461c-b507-4085a0477283",
        "outputId": "724ad8c3-1e18-43fe-bbd9-f1385ae13038"
      },
      "outputs": [
        {
          "output_type": "stream",
          "name": "stdout",
          "text": [
            "The maximum is: 20\n"
          ]
        }
      ],
      "source": [
        "# Write a Python function to find the maximum of two numbers using keyword arguments.\n",
        "def find_maximum(num1=None, num2=None):\n",
        "    \"\"\"\n",
        "    Find the maximum of two numbers using keyword arguments.\n",
        "\n",
        "    Parameters:\n",
        "    num1 (int or float): The first number (default is None).\n",
        "    num2 (int or float): The second number (default is None).\n",
        "\n",
        "    Returns:\n",
        "    int or float: The maximum of the two numbers.\n",
        "    \"\"\"\n",
        "    if num1 is None or num2 is None:\n",
        "        raise ValueError(\"Both num1 and num2 must be provided as keyword arguments.\")\n",
        "\n",
        "    return max(num1, num2)\n",
        "\n",
        "# Example usage\n",
        "result = find_maximum(num1=10, num2=20)\n",
        "print(f\"The maximum is: {result}\")\n"
      ]
    },
    {
      "cell_type": "code",
      "execution_count": 73,
      "id": "0b00c4af-89e0-43e8-a991-1b684d2ce33f",
      "metadata": {
        "colab": {
          "base_uri": "https://localhost:8080/"
        },
        "id": "0b00c4af-89e0-43e8-a991-1b684d2ce33f",
        "outputId": "873b82ee-18cc-48fd-9cf5-60c783a33529"
      },
      "outputs": [
        {
          "output_type": "stream",
          "name": "stdout",
          "text": [
            "The product of the numbers is: 120\n"
          ]
        }
      ],
      "source": [
        "# Write a Python function that accepts a list of numbers and returns their product.\n",
        "def product_of_numbers(numbers):\n",
        "    \"\"\"\n",
        "    Calculate the product of a list of numbers.\n",
        "\n",
        "    Parameters:\n",
        "    numbers (list): A list of numbers.\n",
        "\n",
        "    Returns:\n",
        "    int or float: The product of the numbers.\n",
        "    \"\"\"\n",
        "    if not numbers:\n",
        "        return 0  # Return 0 if the list is empty\n",
        "\n",
        "    product = 1\n",
        "    for num in numbers:\n",
        "        product *= num\n",
        "    return product\n",
        "\n",
        "# Example usage\n",
        "example_list = [1, 2, 3, 4, 5]\n",
        "result = product_of_numbers(example_list)\n",
        "print(f\"The product of the numbers is: {result}\")\n"
      ]
    },
    {
      "cell_type": "code",
      "execution_count": 74,
      "id": "9cd11703-5b48-44fe-af4e-ea906a2762c9",
      "metadata": {
        "colab": {
          "base_uri": "https://localhost:8080/"
        },
        "id": "9cd11703-5b48-44fe-af4e-ea906a2762c9",
        "outputId": "a1cbdd06-7fcc-468b-db71-d2da226fb3f8"
      },
      "outputs": [
        {
          "output_type": "stream",
          "name": "stdout",
          "text": [
            "The product of the numbers is: 120\n"
          ]
        }
      ],
      "source": [
        "# Write a Python function to check if a number is even or odd using the modulo operator.\n",
        "def product_of_numbers(numbers):\n",
        "    \"\"\"\n",
        "    Calculate the product of a list of numbers.\n",
        "\n",
        "    Parameters:\n",
        "    numbers (list): A list of numbers.\n",
        "\n",
        "    Returns:\n",
        "    int or float: The product of the numbers.\n",
        "    \"\"\"\n",
        "    if not numbers:\n",
        "        return 0  # Return 0 if the list is empty\n",
        "\n",
        "    product = 1\n",
        "    for num in numbers:\n",
        "        product *= num\n",
        "    return product\n",
        "\n",
        "# Example usage\n",
        "example_list = [1, 2, 3, 4, 5]\n",
        "result = product_of_numbers(example_list)\n",
        "print(f\"The product of the numbers is: {result}\")\n"
      ]
    },
    {
      "cell_type": "code",
      "execution_count": 75,
      "id": "afbf262e-daed-40a9-827f-82fa60979610",
      "metadata": {
        "colab": {
          "base_uri": "https://localhost:8080/"
        },
        "id": "afbf262e-daed-40a9-827f-82fa60979610",
        "outputId": "f7d7432a-3d84-4bf7-e940-401da876c13f"
      },
      "outputs": [
        {
          "output_type": "stream",
          "name": "stdout",
          "text": [
            "7 is odd.\n"
          ]
        }
      ],
      "source": [
        "# Write a Python program to create a list of squares of numbers from 1 to 10 using list comprehension.\n",
        "def check_even_or_odd(number):\n",
        "    \"\"\"\n",
        "    Check if a number is even or odd.\n",
        "\n",
        "    Parameters:\n",
        "    number (int): The number to check.\n",
        "\n",
        "    Returns:\n",
        "    str: A message stating whether the number is even or odd.\n",
        "    \"\"\"\n",
        "    if number % 2 == 0:\n",
        "        return f\"{number} is even.\"\n",
        "    else:\n",
        "        return f\"{number} is odd.\"\n",
        "\n",
        "# Example usage\n",
        "num = 7\n",
        "result = check_even_or_odd(num)\n",
        "print(result)\n"
      ]
    },
    {
      "cell_type": "code",
      "execution_count": 76,
      "id": "7fff76d8-9ba8-4006-9be6-6f7350092d1c",
      "metadata": {
        "colab": {
          "base_uri": "https://localhost:8080/"
        },
        "id": "7fff76d8-9ba8-4006-9be6-6f7350092d1c",
        "outputId": "cd46e251-8582-484f-86d4-4bda2980ce6a"
      },
      "outputs": [
        {
          "output_type": "stream",
          "name": "stdout",
          "text": [
            "List after filtering out even numbers: [1, 3, 5, 7, 9]\n"
          ]
        }
      ],
      "source": [
        "# Write a Python program to filter out all even numbers from a list using list comprehension.\n",
        "# Original list of numbers\n",
        "numbers = [1, 2, 3, 4, 5, 6, 7, 8, 9, 10]\n",
        "\n",
        "# List comprehension to filter out even numbers\n",
        "odd_numbers = [num for num in numbers if num % 2 != 0]\n",
        "\n",
        "# Print the result\n",
        "print(\"List after filtering out even numbers:\", odd_numbers)\n"
      ]
    },
    {
      "cell_type": "code",
      "execution_count": 87,
      "id": "6ae9b8df-38f9-4fd7-bad1-aa7b07cc9271",
      "metadata": {
        "colab": {
          "base_uri": "https://localhost:8080/"
        },
        "id": "6ae9b8df-38f9-4fd7-bad1-aa7b07cc9271",
        "outputId": "ddfbb94a-e5d4-4698-b16a-1f22adcbf64e"
      },
      "outputs": [
        {
          "output_type": "stream",
          "name": "stdout",
          "text": [
            "Words longer than 4 characters: ['apple', 'grape', 'banana', 'strawberry']\n"
          ]
        }
      ],
      "source": [
        "# Write a Python program to create a list of strings that are longer than 4 characters from a given list of words using list comprehension.\n",
        "# List of words\n",
        "words = [\"apple\", \"bat\", \"grape\", \"kiwi\", \"banana\", \"pear\", \"strawberry\"]\n",
        "\n",
        "# Using list comprehension to create a list of words longer than 4 characters\n",
        "long_words = [word for word in words if len(word) > 4]\n",
        "\n",
        "# Print the result\n",
        "print(\"Words longer than 4 characters:\", long_words)\n"
      ]
    },
    {
      "cell_type": "code",
      "execution_count": 86,
      "id": "f492c7d4-6ad3-48ab-9b61-232be02aecee",
      "metadata": {
        "colab": {
          "base_uri": "https://localhost:8080/"
        },
        "id": "f492c7d4-6ad3-48ab-9b61-232be02aecee",
        "outputId": "83882f9a-4b64-46b3-cdef-0d0ab94bc0d3"
      },
      "outputs": [
        {
          "output_type": "stream",
          "name": "stdout",
          "text": [
            "List of uppercase letters: ['H', 'W', 'W', 'P']\n"
          ]
        }
      ],
      "source": [
        "# Write a Python program to create a list of all uppercase letters in a string using list comprehension.\n",
        "# Input string\n",
        "input_string = \"Hello World! Welcome to Python.\"\n",
        "\n",
        "# Using list comprehension to extract all uppercase letters\n",
        "uppercase_letters = [char for char in input_string if char.isupper()]\n",
        "\n",
        "# Print the result\n",
        "print(\"List of uppercase letters:\", uppercase_letters)\n"
      ]
    },
    {
      "cell_type": "code",
      "execution_count": 85,
      "id": "929a7f74-1762-4a2a-be23-bacf67ff4d8b",
      "metadata": {
        "colab": {
          "base_uri": "https://localhost:8080/"
        },
        "id": "929a7f74-1762-4a2a-be23-bacf67ff4d8b",
        "outputId": "1f60bc31-b478-49c7-c8ec-25c4c1a2cbcc"
      },
      "outputs": [
        {
          "output_type": "stream",
          "name": "stdout",
          "text": [
            "The first 10 Fibonacci numbers are: [0, 1, 1, 2, 3, 5, 8, 13, 21, 34]\n"
          ]
        }
      ],
      "source": [
        "# Write a Python program to generate the first n Fibonacci numbers using list comprehension.\n",
        "def fibonacci(n):\n",
        "    # Using list comprehension to generate the first n Fibonacci numbers\n",
        "    fib = [0, 1] + [0] * (n - 2)  # Initialize the list with the first two Fibonacci numbers\n",
        "    [fib.__setitem__(i, fib[i - 1] + fib[i - 2]) for i in range(2, n)]  # Fill in the rest\n",
        "    return fib[:n]  # Return the list of the first n Fibonacci numbers\n",
        "\n",
        "# Example usage\n",
        "n = 10\n",
        "fib_numbers = fibonacci(n)\n",
        "print(f\"The first {n} Fibonacci numbers are:\", fib_numbers)\n"
      ]
    },
    {
      "cell_type": "code",
      "execution_count": 84,
      "id": "47188bbc-cf62-47bb-a14e-0582c8b5cdd9",
      "metadata": {
        "colab": {
          "base_uri": "https://localhost:8080/"
        },
        "id": "47188bbc-cf62-47bb-a14e-0582c8b5cdd9",
        "outputId": "46ef09a4-5003-42a7-e261-522a0e2cbec6"
      },
      "outputs": [
        {
          "output_type": "stream",
          "name": "stdout",
          "text": [
            "Dictionary of numbers and their squares: {1: 1, 2: 4, 3: 9, 4: 16, 5: 25}\n"
          ]
        }
      ],
      "source": [
        "# Write a Python program to create a dictionary where keys are numbers and values are their squares using dictionary comprehension.\n",
        "# Using dictionary comprehension to create a dictionary of numbers and their squares\n",
        "squares_dict = {x: x**2 for x in range(1, 6)}\n",
        "\n",
        "# Print the result\n",
        "print(\"Dictionary of numbers and their squares:\", squares_dict)\n"
      ]
    },
    {
      "cell_type": "code",
      "execution_count": 83,
      "id": "3c4637d3-aa85-4b4c-acf3-953c10818bcb",
      "metadata": {
        "colab": {
          "base_uri": "https://localhost:8080/"
        },
        "id": "3c4637d3-aa85-4b4c-acf3-953c10818bcb",
        "outputId": "55f9dd15-e40d-4893-e0cf-5eb0b03f62b7"
      },
      "outputs": [
        {
          "output_type": "stream",
          "name": "stdout",
          "text": [
            "Dictionary created from two lists: {'a': 1, 'b': 2, 'c': 3, 'd': 4}\n"
          ]
        }
      ],
      "source": [
        "# Write a Python program to create a dictionary from two lists (one for keys and one for values) using dictionary comprehension.\n",
        "# Lists for keys and values\n",
        "keys = ['a', 'b', 'c', 'd']\n",
        "values = [1, 2, 3, 4]\n",
        "\n",
        "# Using dictionary comprehension to create a dictionary from the two lists\n",
        "dict_from_lists = {keys[i]: values[i] for i in range(len(keys))}\n",
        "\n",
        "# Print the result\n",
        "print(\"Dictionary created from two lists:\", dict_from_lists)\n",
        "\n"
      ]
    },
    {
      "cell_type": "code",
      "execution_count": 82,
      "id": "de817d6f-96e7-4346-839e-1ef0df539b6b",
      "metadata": {
        "colab": {
          "base_uri": "https://localhost:8080/"
        },
        "id": "de817d6f-96e7-4346-839e-1ef0df539b6b",
        "outputId": "1e892984-c8f0-4af5-b1f4-8a5d002d032e"
      },
      "outputs": [
        {
          "output_type": "stream",
          "name": "stdout",
          "text": [
            "Dictionary of numbers and their cubes: {1: 1, 2: 8, 3: 27, 4: 64, 5: 125}\n"
          ]
        }
      ],
      "source": [
        "# Write a Python program to create a dictionary of numbers from 1 to 5 and their cubes using dictionary comprehension.\n",
        "# Using dictionary comprehension to create a dictionary of numbers and their cubes\n",
        "cubes_dict = {x: x**3 for x in range(1, 6)}\n",
        "\n",
        "# Print the result\n",
        "print(\"Dictionary of numbers and their cubes:\", cubes_dict)\n"
      ]
    },
    {
      "cell_type": "code",
      "execution_count": 81,
      "id": "33695301-057e-49a6-9f80-a2f4e3af60ed",
      "metadata": {
        "colab": {
          "base_uri": "https://localhost:8080/"
        },
        "id": "33695301-057e-49a6-9f80-a2f4e3af60ed",
        "outputId": "f46ff9ff-12bc-4100-d805-9403a9bc7611"
      },
      "outputs": [
        {
          "output_type": "stream",
          "name": "stdout",
          "text": [
            "Squared numbers: [1, 4, 9, 16, 25]\n"
          ]
        }
      ],
      "source": [
        "# Write a Python program to square each element of a list using the map() function.\n",
        "# Original list of numbers\n",
        "numbers = [1, 2, 3, 4, 5]\n",
        "\n",
        "# Using map() to square each element of the list\n",
        "squared_numbers = list(map(lambda x: x ** 2, numbers))\n",
        "\n",
        "# Print the result\n",
        "print(\"Squared numbers:\", squared_numbers)\n"
      ]
    },
    {
      "cell_type": "code",
      "execution_count": 80,
      "id": "6d4d17f3-c40f-4944-8656-c6416b600361",
      "metadata": {
        "colab": {
          "base_uri": "https://localhost:8080/"
        },
        "id": "6d4d17f3-c40f-4944-8656-c6416b600361",
        "outputId": "6ff007b8-be4c-4f10-c623-58a2ed31b38e"
      },
      "outputs": [
        {
          "output_type": "stream",
          "name": "stdout",
          "text": [
            "Even numbers: [2, 4, 6, 8, 10]\n"
          ]
        }
      ],
      "source": [
        "# Write a Python program to filter all even numbers from a list using the filter() function.\n",
        "# List of numbers\n",
        "numbers = [1, 2, 3, 4, 5, 6, 7, 8, 9, 10]\n",
        "\n",
        "# Using filter() to get even numbers\n",
        "even_numbers = list(filter(lambda x: x % 2 == 0, numbers))\n",
        "\n",
        "# Print the result\n",
        "print(\"Even numbers:\", even_numbers)\n"
      ]
    },
    {
      "cell_type": "code",
      "execution_count": 79,
      "id": "6634ba1f-9f81-475e-b7c4-422d102afb75",
      "metadata": {
        "colab": {
          "base_uri": "https://localhost:8080/"
        },
        "id": "6634ba1f-9f81-475e-b7c4-422d102afb75",
        "outputId": "6f2b7869-6cc2-4f0d-ed2e-4dc41085c465"
      },
      "outputs": [
        {
          "output_type": "stream",
          "name": "stdout",
          "text": [
            "Numbers divisible by both 3 and 5: [15, 30, 45, 60]\n"
          ]
        }
      ],
      "source": [
        "# Write a Python program to use a lambda function to check if a number is divisible by both 3 and 5.\n",
        "# List of numbers to check\n",
        "numbers = [15, 30, 10, 9, 5, 45, 60, 7]\n",
        "\n",
        "# Using lambda function to check divisibility by both 3 and 5\n",
        "divisible_by_3_and_5 = list(filter(lambda x: x % 3 == 0 and x % 5 == 0, numbers))\n",
        "\n",
        "# Print the result\n",
        "print(\"Numbers divisible by both 3 and 5:\", divisible_by_3_and_5)\n"
      ]
    },
    {
      "cell_type": "code",
      "execution_count": 78,
      "id": "0aac8430-5d77-439d-9a99-9598fadf989c",
      "metadata": {
        "colab": {
          "base_uri": "https://localhost:8080/"
        },
        "id": "0aac8430-5d77-439d-9a99-9598fadf989c",
        "outputId": "c4b38aec-e98b-44c1-e128-bd637918ffed"
      },
      "outputs": [
        {
          "output_type": "stream",
          "name": "stdout",
          "text": [
            "List after multiplying all numbers by 2: [2, 4, 6, 8, 10]\n"
          ]
        }
      ],
      "source": [
        "# Write a Python program to multiply all numbers in a list by 2 using a lambda function inside map().\n",
        "# Original list of numbers\n",
        "numbers = [1, 2, 3, 4, 5]\n",
        "\n",
        "# Using map() with a lambda function to multiply each number by 2\n",
        "doubled_numbers = list(map(lambda x: x * 2, numbers))\n",
        "\n",
        "# Print the result\n",
        "print(\"List after multiplying all numbers by 2:\", doubled_numbers)\n"
      ]
    },
    {
      "cell_type": "code",
      "execution_count": 77,
      "id": "e4cd5ba8-c6ec-4f0d-8787-bf0a4b7a2e22",
      "metadata": {
        "colab": {
          "base_uri": "https://localhost:8080/"
        },
        "id": "e4cd5ba8-c6ec-4f0d-8787-bf0a4b7a2e22",
        "outputId": "5b1bf9fc-b943-4669-9c2c-80a80833764c"
      },
      "outputs": [
        {
          "output_type": "stream",
          "name": "stdout",
          "text": [
            "Original list: [1, 2, 3, 4, 3, 5, 3]\n",
            "List after removing element 3 : [1, 2, 4, 5]\n"
          ]
        }
      ],
      "source": [
        "# Write a Python program to remove all occurrences of a specific element from a list.\n",
        "def remove_element(lst, element):\n",
        "    \"\"\"\n",
        "    Remove all occurrences of a specific element from the list.\n",
        "\n",
        "    Parameters:\n",
        "    lst (list): The original list.\n",
        "    element: The element to remove.\n",
        "\n",
        "    Returns:\n",
        "    list: A new list with the specified element removed.\n",
        "    \"\"\"\n",
        "    return [item for item in lst if item != element]\n",
        "\n",
        "# Example usage\n",
        "original_list = [1, 2, 3, 4, 3, 5, 3]\n",
        "element_to_remove = 3\n",
        "result = remove_element(original_list, element_to_remove)\n",
        "\n",
        "print(\"Original list:\", original_list)\n",
        "print(\"List after removing element\", element_to_remove, \":\", result)\n"
      ]
    },
    {
      "cell_type": "markdown",
      "id": "caba77c7-93db-4893-8f48-c7365ed5c585",
      "metadata": {
        "id": "caba77c7-93db-4893-8f48-c7365ed5c585"
      },
      "source": [
        "**Note:**\n",
        "- All assignments must follow [PEP 8 – Style Guide for Python Code](https://peps.python.org/pep-0008/) guidelines.\n",
        "- You can add multiple solutions for each question. Create a new code cell next to the question and add it. Shortcut for creating cell : `Alt + Enter`"
      ]
    }
  ],
  "metadata": {
    "kernelspec": {
      "display_name": "Python 3 (ipykernel)",
      "language": "python",
      "name": "python3"
    },
    "language_info": {
      "codemirror_mode": {
        "name": "ipython",
        "version": 3
      },
      "file_extension": ".py",
      "mimetype": "text/x-python",
      "name": "python",
      "nbconvert_exporter": "python",
      "pygments_lexer": "ipython3",
      "version": "3.12.6"
    },
    "colab": {
      "provenance": [],
      "include_colab_link": true
    }
  },
  "nbformat": 4,
  "nbformat_minor": 5
}